{
  "cells": [
    {
      "cell_type": "markdown",
      "metadata": {
        "id": "view-in-github",
        "colab_type": "text"
      },
      "source": [
        "<a href=\"https://colab.research.google.com/github/nagaharikathota/dl-4/blob/main/dl_4.ipynb\" target=\"_parent\"><img src=\"https://colab.research.google.com/assets/colab-badge.svg\" alt=\"Open In Colab\"/></a>"
      ]
    },
    {
      "cell_type": "markdown",
      "source": [
        "//by importing the necessary Python libraries and the dataset:"
      ],
      "metadata": {
        "id": "l1TJbH7MDxjb"
      }
    },
    {
      "cell_type": "code",
      "execution_count": 1,
      "metadata": {
        "id": "lIYdn1woOS1n"
      },
      "outputs": [],
      "source": [
        "import numpy as np\n",
        "import tensorflow as tf\n",
        "from tensorflow.keras.preprocessing.text import Tokenizer\n",
        "from tensorflow.keras.preprocessing.sequence import pad_sequences\n",
        "from tensorflow.keras.models import Sequential\n",
        "from tensorflow.keras.layers import Embedding, LSTM, Dense\n"
      ]
    },
    {
      "cell_type": "code",
      "source": [
        "with open('/content/Sherlock.txt', 'r', encoding='utf-8') as file:\n",
        "    text = file.read()\n"
      ],
      "metadata": {
        "id": "lCtF6gMvAL6e"
      },
      "execution_count": 5,
      "outputs": []
    },
    {
      "cell_type": "markdown",
      "source": [
        "//Now let’s tokenize the text to create a sequence of words:"
      ],
      "metadata": {
        "id": "yT38Df9rD_Yr"
      }
    },
    {
      "cell_type": "code",
      "source": [
        "tokenizer = Tokenizer()\n",
        "tokenizer.fit_on_texts([text])\n",
        "total_words = len(tokenizer.word_index) + 1\n"
      ],
      "metadata": {
        "id": "xlKteVZdB6xB"
      },
      "execution_count": 6,
      "outputs": []
    },
    {
      "cell_type": "markdown",
      "source": [
        "//Now let’s create input-output pairs by splitting the text into sequences of tokens and forming n-grams from the sequences:"
      ],
      "metadata": {
        "id": "hH9WcJ7FEEAW"
      }
    },
    {
      "cell_type": "code",
      "source": [
        "input_sequences = []\n",
        "for line in text.split('\\n'):\n",
        "    token_list = tokenizer.texts_to_sequences([line])[0]\n",
        "    for i in range(1, len(token_list)):\n",
        "        n_gram_sequence = token_list[:i+1]\n",
        "        input_sequences.append(n_gram_sequence)\n",
        "\n"
      ],
      "metadata": {
        "id": "CxaPQsA_Ckx5"
      },
      "execution_count": 7,
      "outputs": []
    },
    {
      "cell_type": "markdown",
      "source": [
        "//Now let’s pad the input sequences to have equal length:"
      ],
      "metadata": {
        "id": "uoKLQvEIEJQx"
      }
    },
    {
      "cell_type": "code",
      "source": [
        "max_sequence_len = max([len(seq) for seq in input_sequences])\n",
        "input_sequences = np.array(pad_sequences(input_sequences, maxlen=max_sequence_len, padding='pre'))\n"
      ],
      "metadata": {
        "id": "MGdi34yMCo_8"
      },
      "execution_count": 8,
      "outputs": []
    },
    {
      "cell_type": "markdown",
      "source": [
        "//Now let’s split the sequences into input and output:"
      ],
      "metadata": {
        "id": "DXIolKrqEMz9"
      }
    },
    {
      "cell_type": "code",
      "source": [
        "X = input_sequences[:, :-1]\n",
        "y = input_sequences[:, -1]\n"
      ],
      "metadata": {
        "id": "fQTAnjtnCsiT"
      },
      "execution_count": 9,
      "outputs": []
    },
    {
      "cell_type": "markdown",
      "source": [
        "//Now let’s convert the output to one-hot encode vectors:"
      ],
      "metadata": {
        "id": "2EGN5uIIEQDN"
      }
    },
    {
      "cell_type": "code",
      "source": [
        "y = np.array(tf.keras.utils.to_categorical(y, num_classes=total_words))"
      ],
      "metadata": {
        "id": "lYPIsjNVCwK1"
      },
      "execution_count": 10,
      "outputs": []
    },
    {
      "cell_type": "markdown",
      "source": [
        "//Now let’s build a neural network architecture to train the model:"
      ],
      "metadata": {
        "id": "qW0GcZQQEVc7"
      }
    },
    {
      "cell_type": "code",
      "source": [
        "model = Sequential()\n",
        "model.add(Embedding(total_words, 100, input_length=max_sequence_len-1))\n",
        "model.add(LSTM(150))\n",
        "model.add(Dense(total_words, activation='softmax'))\n",
        "print(model.summary())\n"
      ],
      "metadata": {
        "id": "toej5cSwCzAb",
        "outputId": "8b899b0f-4665-4919-9d2f-af7c3ec95452",
        "colab": {
          "base_uri": "https://localhost:8080/"
        }
      },
      "execution_count": 11,
      "outputs": [
        {
          "output_type": "stream",
          "name": "stdout",
          "text": [
            "Model: \"sequential\"\n",
            "_________________________________________________________________\n",
            " Layer (type)                Output Shape              Param #   \n",
            "=================================================================\n",
            " embedding (Embedding)       (None, 16, 100)           846400    \n",
            "                                                                 \n",
            " lstm (LSTM)                 (None, 150)               150600    \n",
            "                                                                 \n",
            " dense (Dense)               (None, 8464)              1278064   \n",
            "                                                                 \n",
            "=================================================================\n",
            "Total params: 2,275,064\n",
            "Trainable params: 2,275,064\n",
            "Non-trainable params: 0\n",
            "_________________________________________________________________\n",
            "None\n"
          ]
        }
      ]
    },
    {
      "cell_type": "markdown",
      "source": [
        "//Now let’s compile and train the model:"
      ],
      "metadata": {
        "id": "_K0K1IPrEZev"
      }
    },
    {
      "cell_type": "code",
      "source": [
        "model.compile(loss='categorical_crossentropy', optimizer='adam', metrics=['accuracy'])\n",
        "model.fit(X, y, epochs=10, verbose=1)\n"
      ],
      "metadata": {
        "id": "aIhgL-y_C1yq",
        "outputId": "fa8d95db-6593-4377-cbf9-1ebcc398d9d4",
        "colab": {
          "base_uri": "https://localhost:8080/"
        }
      },
      "execution_count": 12,
      "outputs": [
        {
          "output_type": "stream",
          "name": "stdout",
          "text": [
            "Epoch 1/10\n",
            "3084/3084 [==============================] - 224s 72ms/step - loss: 6.2644 - accuracy: 0.0766\n",
            "Epoch 2/10\n",
            "3084/3084 [==============================] - 223s 72ms/step - loss: 5.5385 - accuracy: 0.1242\n",
            "Epoch 3/10\n",
            "3084/3084 [==============================] - 221s 72ms/step - loss: 5.1409 - accuracy: 0.1489\n",
            "Epoch 4/10\n",
            "3084/3084 [==============================] - 215s 70ms/step - loss: 4.7990 - accuracy: 0.1666\n",
            "Epoch 5/10\n",
            "3084/3084 [==============================] - 217s 70ms/step - loss: 4.4843 - accuracy: 0.1872\n",
            "Epoch 6/10\n",
            "3084/3084 [==============================] - 210s 68ms/step - loss: 4.1850 - accuracy: 0.2080\n",
            "Epoch 7/10\n",
            "3084/3084 [==============================] - 213s 69ms/step - loss: 3.9023 - accuracy: 0.2330\n",
            "Epoch 8/10\n",
            "3084/3084 [==============================] - 213s 69ms/step - loss: 3.6330 - accuracy: 0.2667\n",
            "Epoch 9/10\n",
            "3084/3084 [==============================] - 217s 70ms/step - loss: 3.3826 - accuracy: 0.3019\n",
            "Epoch 10/10\n",
            "3084/3084 [==============================] - 216s 70ms/step - loss: 3.1531 - accuracy: 0.3367\n"
          ]
        },
        {
          "output_type": "execute_result",
          "data": {
            "text/plain": [
              "<keras.callbacks.History at 0x7ee6bd1bd2a0>"
            ]
          },
          "metadata": {},
          "execution_count": 12
        }
      ]
    },
    {
      "cell_type": "markdown",
      "source": [
        "//we can generate the next word predictions using our model:"
      ],
      "metadata": {
        "id": "EgnkJi8jEbSI"
      }
    },
    {
      "cell_type": "code",
      "source": [
        "seed_text = \"i am rohini\"\n",
        "next_words = 16\n",
        "\n",
        "for _ in range(next_words):\n",
        "    token_list = tokenizer.texts_to_sequences([seed_text])[0]\n",
        "    token_list = pad_sequences([token_list], maxlen=max_sequence_len-1, padding='pre')\n",
        "    predicted = np.argmax(model.predict(token_list), axis=-1)\n",
        "    output_word = \"\"\n",
        "    for word, index in tokenizer.word_index.items():\n",
        "        if index == predicted:\n",
        "            output_word = word\n",
        "            break\n",
        "    seed_text += \" \" + output_word\n",
        "\n",
        "print(seed_text)\n"
      ],
      "metadata": {
        "id": "FGlB300-C5wo",
        "colab": {
          "base_uri": "https://localhost:8080/"
        },
        "outputId": "36bc6eb6-c386-4d5f-f52b-a37acf293f27"
      },
      "execution_count": 16,
      "outputs": [
        {
          "output_type": "stream",
          "name": "stdout",
          "text": [
            "1/1 [==============================] - 0s 24ms/step\n",
            "1/1 [==============================] - 0s 23ms/step\n",
            "1/1 [==============================] - 0s 32ms/step\n",
            "1/1 [==============================] - 0s 24ms/step\n",
            "1/1 [==============================] - 0s 24ms/step\n",
            "1/1 [==============================] - 0s 26ms/step\n",
            "1/1 [==============================] - 0s 23ms/step\n",
            "1/1 [==============================] - 0s 23ms/step\n",
            "1/1 [==============================] - 0s 25ms/step\n",
            "1/1 [==============================] - 0s 25ms/step\n",
            "1/1 [==============================] - 0s 24ms/step\n",
            "1/1 [==============================] - 0s 35ms/step\n",
            "1/1 [==============================] - 0s 32ms/step\n",
            "1/1 [==============================] - 0s 32ms/step\n",
            "1/1 [==============================] - 0s 39ms/step\n",
            "1/1 [==============================] - 0s 37ms/step\n",
            "i am rohini glad to give you a little good day said holmes laughing i shall not be able\n"
          ]
        }
      ]
    }
  ],
  "metadata": {
    "colab": {
      "provenance": [],
      "include_colab_link": true
    },
    "kernelspec": {
      "display_name": "Python 3",
      "name": "python3"
    }
  },
  "nbformat": 4,
  "nbformat_minor": 0
}